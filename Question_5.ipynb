{
  "nbformat": 4,
  "nbformat_minor": 0,
  "metadata": {
    "colab": {
      "provenance": []
    },
    "kernelspec": {
      "name": "python3",
      "display_name": "Python 3"
    },
    "language_info": {
      "name": "python"
    }
  },
  "cells": [
    {
      "cell_type": "code",
      "execution_count": 1,
      "metadata": {
        "id": "Sw3n343yGmKN"
      },
      "outputs": [],
      "source": [
        "import tensorflow as tf\n",
        "import random\n",
        "import numpy as np\n",
        "from tensorflow import keras\n",
        "from tensorflow.keras import layers\n",
        "from tensorflow.keras.datasets import cifar10\n",
        "from tensorflow.keras.optimizers import Adam, SGD, RMSprop\n"
      ]
    },
    {
      "cell_type": "code",
      "source": [
        "# Load CIFAR-10 dataset\n",
        "(x_train, y_train), (x_test, y_test) = cifar10.load_data()\n",
        "x_train, x_test = x_train / 255.0, x_test / 255.0  # Normalize\n",
        "\n",
        "# Define hyperparameter search space\n",
        "param_grid = {\n",
        "    \"learning_rate\": [0.001, 0.0005, 0.0001],\n",
        "    \"num_filters\": [8, 16, 32],\n",
        "    \"optimizer\": [\"adam\", \"sgd\", \"rmsprop\"],\n",
        "    \"dropout_rate\": [0.2, 0.3, 0.5]\n",
        "}\n",
        "\n",
        "# Function to create CNN with given parameters\n",
        "def create_cnn(learning_rate, num_filters, optimizer, dropout_rate):\n",
        "    model = keras.Sequential([\n",
        "        layers.Conv2D(num_filters, (3, 3), activation=\"relu\", input_shape=(32, 32, 3)),\n",
        "        layers.MaxPooling2D(2, 2),\n",
        "        layers.Conv2D(num_filters*2, (3, 3), activation=\"relu\"),\n",
        "        layers.MaxPooling2D(2, 2),\n",
        "        layers.Flatten(),\n",
        "        layers.Dense(128, activation=\"relu\"),\n",
        "        layers.Dropout(dropout_rate),\n",
        "        layers.Dense(10, activation=\"softmax\")\n",
        "    ])\n",
        "\n",
        "    if optimizer == \"adam\":\n",
        "        opt = Adam(learning_rate=learning_rate)\n",
        "    elif optimizer == \"sgd\":\n",
        "        opt = SGD(learning_rate=learning_rate)\n",
        "    else:\n",
        "        opt = RMSprop(learning_rate=learning_rate)\n",
        "\n",
        "    model.compile(optimizer=opt, loss=\"sparse_categorical_crossentropy\", metrics=[\"accuracy\"])\n",
        "    return model\n",
        "\n",
        "# Random Search\n",
        "best_acc = 0\n",
        "best_params = None\n",
        "\n",
        "for _ in range(5):  # Run 5 random searches\n",
        "    params = {key: random.choice(values) for key, values in param_grid.items()}\n",
        "    print(f\"Testing: {params}\")\n",
        "\n",
        "    model = create_cnn(**params)\n",
        "    model.fit(x_train, y_train, epochs=3, validation_data=(x_test, y_test), verbose=0)\n",
        "\n",
        "    loss, acc = model.evaluate(x_test, y_test, verbose=0)\n",
        "    print(f\"Accuracy: {acc:.4f}\")\n",
        "\n",
        "    if acc > best_acc:\n",
        "        best_acc = acc\n",
        "        best_params = params\n",
        "\n",
        "print(f\"Best Accuracy: {best_acc:.4f}\")\n",
        "print(f\"Best Parameters: {best_params}\")"
      ],
      "metadata": {
        "colab": {
          "base_uri": "https://localhost:8080/"
        },
        "id": "KABfmBM8Hfd6",
        "outputId": "5c287cdc-333f-484b-f293-d27930cce6f3"
      },
      "execution_count": 4,
      "outputs": [
        {
          "output_type": "stream",
          "name": "stdout",
          "text": [
            "Testing: {'learning_rate': 0.0005, 'num_filters': 16, 'optimizer': 'sgd', 'dropout_rate': 0.2}\n",
            "Accuracy: 0.1777\n",
            "Testing: {'learning_rate': 0.0001, 'num_filters': 16, 'optimizer': 'rmsprop', 'dropout_rate': 0.5}\n",
            "Accuracy: 0.4700\n",
            "Testing: {'learning_rate': 0.001, 'num_filters': 8, 'optimizer': 'adam', 'dropout_rate': 0.5}\n",
            "Accuracy: 0.5702\n",
            "Testing: {'learning_rate': 0.001, 'num_filters': 16, 'optimizer': 'adam', 'dropout_rate': 0.2}\n",
            "Accuracy: 0.6353\n",
            "Testing: {'learning_rate': 0.0001, 'num_filters': 32, 'optimizer': 'adam', 'dropout_rate': 0.2}\n",
            "Accuracy: 0.5560\n",
            "Best Accuracy: 0.6353\n",
            "Best Parameters: {'learning_rate': 0.001, 'num_filters': 16, 'optimizer': 'adam', 'dropout_rate': 0.2}\n"
          ]
        }
      ]
    },
    {
      "cell_type": "code",
      "source": [
        "import tensorflow_datasets as tfds\n",
        "import numpy as np\n",
        "import tensorflow as tf\n",
        "import random\n",
        "\n",
        "# Load Tiny Shakespeare dataset (without as_supervised=True)\n",
        "dataset = tfds.load(\"tiny_shakespeare\", split='train')\n",
        "\n",
        "# Extract text (Use a smaller subset for speed)\n",
        "text = \"\".join([example[\"text\"].numpy().decode('utf-8') for example in dataset])[:100000]  # Use only 100K characters\n",
        "\n",
        "# Tokenization\n",
        "tokenizer = tf.keras.preprocessing.text.Tokenizer(char_level=True)\n",
        "tokenizer.fit_on_texts([text])\n",
        "\n",
        "# Convert text to sequences\n",
        "sequence = tokenizer.texts_to_sequences([text])[0]\n",
        "vocab_size = len(tokenizer.word_index) + 1\n",
        "\n",
        "# Prepare training sequences\n",
        "seq_length = 40\n",
        "subset_size = 5000  # Use only 5000 sequences for training\n",
        "X, y = [], []\n",
        "\n",
        "for i in range(subset_size):\n",
        "    X.append(sequence[i:i+seq_length])\n",
        "    y.append(sequence[i+seq_length])\n",
        "\n",
        "X, y = np.array(X), np.array(y)\n",
        "\n",
        "# Define hyperparameter search space\n",
        "param_grid_rnn = {\n",
        "    \"learning_rate\": [0.01, 0.005, 0.001],\n",
        "    \"num_units\": [32, 64, 128],  # Increase to reasonable values\n",
        "    \"optimizer\": [\"adam\", \"rmsprop\"],\n",
        "    \"dropout_rate\": [0.2, 0.3]\n",
        "}\n",
        "\n",
        "# Function to create RNN model\n",
        "def create_rnn(learning_rate, num_units, optimizer, dropout_rate):\n",
        "    model = tf.keras.Sequential([\n",
        "        tf.keras.layers.Embedding(input_dim=vocab_size, output_dim=64, input_length=seq_length),\n",
        "        tf.keras.layers.SimpleRNN(num_units, return_sequences=True),\n",
        "        tf.keras.layers.SimpleRNN(num_units),\n",
        "        tf.keras.layers.Dense(128, activation=\"relu\"),\n",
        "        tf.keras.layers.Dropout(dropout_rate),\n",
        "        tf.keras.layers.Dense(vocab_size, activation=\"softmax\")\n",
        "    ])\n",
        "\n",
        "    opt = tf.keras.optimizers.Adam(learning_rate=learning_rate) if optimizer == \"adam\" else tf.keras.optimizers.RMSprop(learning_rate=learning_rate)\n",
        "\n",
        "    model.compile(loss=\"sparse_categorical_crossentropy\", optimizer=opt, metrics=[\"accuracy\"])\n",
        "    return model\n",
        "\n",
        "# Random Search for RNN (Reduced Iterations)\n",
        "best_acc_rnn = 0\n",
        "best_params_rnn = None\n",
        "\n",
        "for _ in range(5):  # Reduce to 2 iterations for speed\n",
        "    params_rnn = {key: random.choice(values) for key, values in param_grid_rnn.items()}\n",
        "    print(f\"Testing RNN with parameters: {params_rnn}\")\n",
        "\n",
        "    model_rnn = create_rnn(**params_rnn)\n",
        "    model_rnn.fit(X, y, epochs=3, batch_size=64, verbose=0)  # Reduce batch size for faster training\n",
        "\n",
        "    loss_rnn, acc_rnn = model_rnn.evaluate(X, y, verbose=0)\n",
        "    print(f\"RNN Accuracy: {acc_rnn:.4f}\")\n",
        "\n",
        "    if acc_rnn > best_acc_rnn:\n",
        "        best_acc_rnn = acc_rnn\n",
        "        best_params_rnn = params_rnn\n",
        "\n",
        "print(f\"\\nBest RNN Accuracy: {best_acc_rnn:.4f}\")\n",
        "print(f\"Best RNN Parameters: {best_params_rnn}\")"
      ],
      "metadata": {
        "colab": {
          "base_uri": "https://localhost:8080/"
        },
        "id": "ezWEVEAxHmYJ",
        "outputId": "8b35c354-cadf-4b37-f798-8c27ce1b99cd"
      },
      "execution_count": 16,
      "outputs": [
        {
          "output_type": "stream",
          "name": "stdout",
          "text": [
            "Testing RNN with parameters: {'learning_rate': 0.005, 'num_units': 32, 'optimizer': 'adam', 'dropout_rate': 0.2}\n",
            "RNN Accuracy: 0.3726\n",
            "Testing RNN with parameters: {'learning_rate': 0.01, 'num_units': 32, 'optimizer': 'rmsprop', 'dropout_rate': 0.2}\n",
            "RNN Accuracy: 0.2520\n",
            "Testing RNN with parameters: {'learning_rate': 0.001, 'num_units': 32, 'optimizer': 'rmsprop', 'dropout_rate': 0.3}\n",
            "RNN Accuracy: 0.2426\n",
            "Testing RNN with parameters: {'learning_rate': 0.01, 'num_units': 64, 'optimizer': 'rmsprop', 'dropout_rate': 0.3}\n",
            "RNN Accuracy: 0.1346\n",
            "Testing RNN with parameters: {'learning_rate': 0.001, 'num_units': 128, 'optimizer': 'rmsprop', 'dropout_rate': 0.2}\n",
            "RNN Accuracy: 0.2860\n",
            "\n",
            "Best RNN Accuracy: 0.3726\n",
            "Best RNN Parameters: {'learning_rate': 0.005, 'num_units': 32, 'optimizer': 'adam', 'dropout_rate': 0.2}\n"
          ]
        }
      ]
    },
    {
      "cell_type": "code",
      "source": [],
      "metadata": {
        "id": "LJRHlZzgPo7B"
      },
      "execution_count": null,
      "outputs": []
    }
  ]
}